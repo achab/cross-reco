{
 "cells": [
  {
   "cell_type": "code",
   "execution_count": 50,
   "metadata": {
    "collapsed": false
   },
   "outputs": [],
   "source": [
    "import pandas as pd"
   ]
  },
  {
   "cell_type": "code",
   "execution_count": 51,
   "metadata": {
    "collapsed": false
   },
   "outputs": [],
   "source": [
    "filename = 'items.jl'\n",
    "\n",
    "try:\n",
    "    data = pd.read_json(filename)\n",
    "except:\n",
    "    with open(filename, \"rb\") as f:\n",
    "        lines = f.readlines()\n",
    "    lines = map(lambda x: x.rstrip(), lines)\n",
    "    data_json_str = \"[\" + ','.join(lines) + \"]\" \n",
    "    data = pd.read_json(data_json_str)"
   ]
  },
  {
   "cell_type": "code",
   "execution_count": 63,
   "metadata": {
    "collapsed": false
   },
   "outputs": [],
   "source": [
    "data.replace(\"2011 Documentary\",\"2011\",inplace=True)\n",
    "#data.replace(\"2012\",\"2010\",inplace=True)\n",
    "#data.loc[7738]['genres'].append(\"Short Film\")\n",
    "#data.loc[7014]['year'] = \"2010\"\n",
    "#data = data[data.year != \"???? \"]"
   ]
  },
  {
   "cell_type": "code",
   "execution_count": 64,
   "metadata": {
    "collapsed": false
   },
   "outputs": [
    {
     "name": "stdout",
     "output_type": "stream",
     "text": [
      "2011, 7739 movies scrapped\n"
     ]
    }
   ],
   "source": [
    "grouped = data.groupby('year')\n",
    "for group in grouped:\n",
    "    print(str(group[0]) + \", \" + str(len(group[1])) + \" movies scrapped\")"
   ]
  },
  {
   "cell_type": "code",
   "execution_count": 65,
   "metadata": {
    "collapsed": false
   },
   "outputs": [
    {
     "data": {
      "text/plain": [
       "7739"
      ]
     },
     "execution_count": 65,
     "metadata": {},
     "output_type": "execute_result"
    }
   ],
   "source": [
    "len(data)"
   ]
  },
  {
   "cell_type": "code",
   "execution_count": null,
   "metadata": {
    "collapsed": true
   },
   "outputs": [],
   "source": []
  },
  {
   "cell_type": "code",
   "execution_count": 59,
   "metadata": {
    "collapsed": false
   },
   "outputs": [
    {
     "name": "stdout",
     "output_type": "stream",
     "text": [
      "                   genres     imdbID rating   runtime             title  \\\n",
      "7735  [Drama, Short Film]  tt5599942      -  11 mins.          La Mujer   \n",
      "7738  [Crime, Short Film]  tt5606610      -      9999  The Picture Hunt   \n",
      "\n",
      "                 year  \n",
      "7735  2011 Short Film  \n",
      "7738  2011 Short Film  \n"
     ]
    }
   ],
   "source": [
    "for group in grouped:\n",
    "    if str(group[0]) == \"2011 Short Film\": print(group[1])"
   ]
  },
  {
   "cell_type": "code",
   "execution_count": null,
   "metadata": {
    "collapsed": true
   },
   "outputs": [],
   "source": []
  },
  {
   "cell_type": "code",
   "execution_count": null,
   "metadata": {
    "collapsed": true
   },
   "outputs": [],
   "source": []
  },
  {
   "cell_type": "code",
   "execution_count": 66,
   "metadata": {
    "collapsed": false
   },
   "outputs": [],
   "source": [
    "import json\n",
    "with open('items_new.jl', 'wb') as f:\n",
    "    for i, item in enumerate(data.iterrows()):\n",
    "        #if i == 4: \n",
    "        #    print(item[1])\n",
    "        line = json.dumps(dict(item[1])) + \"\\n\"\n",
    "        f.write(line)"
   ]
  },
  {
   "cell_type": "code",
   "execution_count": 67,
   "metadata": {
    "collapsed": true
   },
   "outputs": [],
   "source": [
    "filename = 'items_new.jl'\n",
    "\n",
    "try:\n",
    "    data_new = pd.read_json(filename)\n",
    "except:\n",
    "    with open(filename, \"rb\") as f:\n",
    "        lines = f.readlines()\n",
    "    lines = map(lambda x: x.rstrip(), lines)\n",
    "    data_json_str = \"[\" + ','.join(lines) + \"]\" \n",
    "    data_new = pd.read_json(data_json_str)"
   ]
  },
  {
   "cell_type": "code",
   "execution_count": 68,
   "metadata": {
    "collapsed": false
   },
   "outputs": [
    {
     "data": {
      "text/html": [
       "<div>\n",
       "<table border=\"1\" class=\"dataframe\">\n",
       "  <thead>\n",
       "    <tr style=\"text-align: right;\">\n",
       "      <th></th>\n",
       "      <th>genres</th>\n",
       "      <th>imdbID</th>\n",
       "      <th>rating</th>\n",
       "      <th>runtime</th>\n",
       "      <th>title</th>\n",
       "      <th>year</th>\n",
       "    </tr>\n",
       "  </thead>\n",
       "  <tbody>\n",
       "    <tr>\n",
       "      <th>0</th>\n",
       "      <td>[Drama, Thriller]</td>\n",
       "      <td>tt1675192</td>\n",
       "      <td>7.4</td>\n",
       "      <td>121 mins.</td>\n",
       "      <td>Take Shelter</td>\n",
       "      <td>2011</td>\n",
       "    </tr>\n",
       "    <tr>\n",
       "      <th>1</th>\n",
       "      <td>[Biography, Drama, Family, Sport]</td>\n",
       "      <td>tt1596346</td>\n",
       "      <td>7.1</td>\n",
       "      <td>106 mins.</td>\n",
       "      <td>Soul Surfer</td>\n",
       "      <td>2011</td>\n",
       "    </tr>\n",
       "    <tr>\n",
       "      <th>2</th>\n",
       "      <td>[Action, Drama, Sci-Fi, Sport]</td>\n",
       "      <td>tt0433035</td>\n",
       "      <td>7.1</td>\n",
       "      <td>127 mins.</td>\n",
       "      <td>Real Steel</td>\n",
       "      <td>2011</td>\n",
       "    </tr>\n",
       "    <tr>\n",
       "      <th>3</th>\n",
       "      <td>[Action, Crime, Thriller]</td>\n",
       "      <td>tt1899353</td>\n",
       "      <td>7.6</td>\n",
       "      <td>101 mins.</td>\n",
       "      <td>The Raid: Redemption</td>\n",
       "      <td>2011</td>\n",
       "    </tr>\n",
       "    <tr>\n",
       "      <th>4</th>\n",
       "      <td>[Drama, Sci-Fi]</td>\n",
       "      <td>tt1527186</td>\n",
       "      <td>7.1</td>\n",
       "      <td>130 mins.</td>\n",
       "      <td>Melancholia</td>\n",
       "      <td>2011</td>\n",
       "    </tr>\n",
       "  </tbody>\n",
       "</table>\n",
       "</div>"
      ],
      "text/plain": [
       "                              genres     imdbID rating    runtime  \\\n",
       "0                  [Drama, Thriller]  tt1675192    7.4  121 mins.   \n",
       "1  [Biography, Drama, Family, Sport]  tt1596346    7.1  106 mins.   \n",
       "2     [Action, Drama, Sci-Fi, Sport]  tt0433035    7.1  127 mins.   \n",
       "3          [Action, Crime, Thriller]  tt1899353    7.6  101 mins.   \n",
       "4                    [Drama, Sci-Fi]  tt1527186    7.1  130 mins.   \n",
       "\n",
       "                  title  year  \n",
       "0          Take Shelter  2011  \n",
       "1           Soul Surfer  2011  \n",
       "2            Real Steel  2011  \n",
       "3  The Raid: Redemption  2011  \n",
       "4           Melancholia  2011  "
      ]
     },
     "execution_count": 68,
     "metadata": {},
     "output_type": "execute_result"
    }
   ],
   "source": [
    "data_new.head()"
   ]
  },
  {
   "cell_type": "code",
   "execution_count": 69,
   "metadata": {
    "collapsed": false
   },
   "outputs": [
    {
     "name": "stdout",
     "output_type": "stream",
     "text": [
      "2011, 7739 movies scrapped\n"
     ]
    }
   ],
   "source": [
    "grouped = data_new.groupby('year')\n",
    "for group in grouped:\n",
    "    print(str(group[0]) + \", \" + str(len(group[1])) + \" movies scrapped\")"
   ]
  },
  {
   "cell_type": "code",
   "execution_count": 70,
   "metadata": {
    "collapsed": false
   },
   "outputs": [
    {
     "data": {
      "text/plain": [
       "7739"
      ]
     },
     "execution_count": 70,
     "metadata": {},
     "output_type": "execute_result"
    }
   ],
   "source": [
    "len(data_new)"
   ]
  },
  {
   "cell_type": "code",
   "execution_count": null,
   "metadata": {
    "collapsed": true
   },
   "outputs": [],
   "source": []
  }
 ],
 "metadata": {
  "kernelspec": {
   "display_name": "Python 2",
   "language": "python",
   "name": "python2"
  },
  "language_info": {
   "codemirror_mode": {
    "name": "ipython",
    "version": 2
   },
   "file_extension": ".py",
   "mimetype": "text/x-python",
   "name": "python",
   "nbconvert_exporter": "python",
   "pygments_lexer": "ipython2",
   "version": "2.7.11"
  }
 },
 "nbformat": 4,
 "nbformat_minor": 0
}
